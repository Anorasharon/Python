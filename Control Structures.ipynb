{
 "cells": [
  {
   "cell_type": "code",
   "execution_count": 1,
   "id": "cb3f9230-859d-459e-b818-e3f8425d6e11",
   "metadata": {},
   "outputs": [
    {
     "name": "stdout",
     "output_type": "stream",
     "text": [
      "Welcome to Assignment-1\n"
     ]
    }
   ],
   "source": [
    "print(\"Welcome to Assignment-1\")"
   ]
  },
  {
   "cell_type": "code",
   "execution_count": 3,
   "id": "0a276d6a-3d7d-49c1-a208-87e86ec7f625",
   "metadata": {},
   "outputs": [
    {
     "name": "stdin",
     "output_type": "stream",
     "text": [
      "Num1: 10\n",
      "Num2: 30\n"
     ]
    },
    {
     "name": "stdout",
     "output_type": "stream",
     "text": [
      "Add: 40\n"
     ]
    }
   ],
   "source": [
    "num1=int(input(\"Num1:\"))\n",
    "num2=int(input(\"Num2:\"))\n",
    "Add=num1+num2\n",
    "print(\"Add:\",Add)"
   ]
  },
  {
   "cell_type": "code",
   "execution_count": 1,
   "id": "2938087e-1545-42eb-928a-1da1a3c68ed2",
   "metadata": {},
   "outputs": [
    {
     "name": "stdin",
     "output_type": "stream",
     "text": [
      "Enter the index: 34\n"
     ]
    },
    {
     "name": "stdout",
     "output_type": "stream",
     "text": [
      "Very overweight\n"
     ]
    }
   ],
   "source": [
    "index=int(input(\"Enter the index:\"))\n",
    "if(index<18.5):\n",
    "    print(\"Underweight\")\n",
    "elif((index>=18.5)&(index<=24.9)):\n",
    "    print(\"Normal range\")\n",
    "elif((index>=25.0)&(index<=29.9)):\n",
    "    print(\"Overweight\")\n",
    "elif(index>=30):\n",
    "    print(\"Very overweight\")\n",
    "    "
   ]
  },
  {
   "cell_type": "code",
   "execution_count": null,
   "id": "ffc60ffe-69fa-49a4-83de-3723fc67f9bf",
   "metadata": {},
   "outputs": [],
   "source": []
  }
 ],
 "metadata": {
  "kernelspec": {
   "display_name": "Python 3 (ipykernel)",
   "language": "python",
   "name": "python3"
  },
  "language_info": {
   "codemirror_mode": {
    "name": "ipython",
    "version": 3
   },
   "file_extension": ".py",
   "mimetype": "text/x-python",
   "name": "python",
   "nbconvert_exporter": "python",
   "pygments_lexer": "ipython3",
   "version": "3.12.7"
  }
 },
 "nbformat": 4,
 "nbformat_minor": 5
}
