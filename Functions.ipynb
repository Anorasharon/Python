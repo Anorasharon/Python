{
 "cells": [
  {
   "cell_type": "code",
   "execution_count": 6,
   "id": "22350a88-f6a7-468a-9f10-8c402c172b17",
   "metadata": {},
   "outputs": [
    {
     "name": "stdout",
     "output_type": "stream",
     "text": [
      "Subfields in AI are\n",
      "Machine Learning\n",
      "Neural Networks\n",
      "Vision\n",
      "Robotics\n",
      "Speech Processing\n",
      "Natural Language Processing\n"
     ]
    }
   ],
   "source": [
    "def Subfields():\n",
    "    print(\"Subfields in AI are\")\n",
    "    print(\"Machine Learning\")\n",
    "    print( \"Neural Networks\")\n",
    "    print ( \"Vision\")\n",
    "    print(\"Robotics\")\n",
    "    print(\"Speech Processing\")\n",
    "    print( \"Natural Language Processing\")\n",
    "Subfields()"
   ]
  },
  {
   "cell_type": "code",
   "execution_count": 8,
   "id": "eb34a957-dc57-4cb4-8197-faf27039d046",
   "metadata": {},
   "outputs": [
    {
     "name": "stdin",
     "output_type": "stream",
     "text": [
      "Enter the number: 52452\n"
     ]
    },
    {
     "name": "stdout",
     "output_type": "stream",
     "text": [
      "52452  is even number\n"
     ]
    }
   ],
   "source": [
    "def OddEven():\n",
    "    if (num%2==0):\n",
    "        print(num,\" is even number\")\n",
    "    else:\n",
    "        print(num, \"is odd number\")\n",
    "num=int(input(\"Enter the number:\"))\n",
    "OddEven()"
   ]
  },
  {
   "cell_type": "code",
   "execution_count": 12,
   "id": "58bf2059-c0d7-4bf4-9344-ac88e2dd7cc2",
   "metadata": {},
   "outputs": [
    {
     "name": "stdin",
     "output_type": "stream",
     "text": [
      "Enter gender: Male\n",
      "Enter age: 20\n"
     ]
    },
    {
     "name": "stdout",
     "output_type": "stream",
     "text": [
      "NOT ELIGIBLE\n"
     ]
    }
   ],
   "source": [
    "def Eligible():\n",
    "    if(gender==\"Male\"):\n",
    "        if(age>=21):\n",
    "            return \"ELIGIBLE\"\n",
    "        else:\n",
    "            return \"NOT ELIGIBLE\"\n",
    "    if(gender==\"Female\"):\n",
    "        if(age>=18):\n",
    "            return \"Eligible\"\n",
    "        else:\n",
    "            return \"Not Eligible\"\n",
    "gender=input(\"Enter gender:\")\n",
    "age=int(input(\"Enter age:\"))\n",
    "result=Eligible()\n",
    "print(result)"
   ]
  },
  {
   "cell_type": "code",
   "execution_count": 13,
   "id": "67393fe7-c5f4-42c3-a5ee-6899a6858a74",
   "metadata": {},
   "outputs": [
    {
     "name": "stdin",
     "output_type": "stream",
     "text": [
      "Subject1: 98\n",
      "Subject2: 87\n",
      "Subject3: 95\n",
      "Subject4: 95\n",
      "Subject5: 93\n"
     ]
    },
    {
     "name": "stdout",
     "output_type": "stream",
     "text": [
      "total= 468\n",
      "Percentage= 93.60000000000001\n"
     ]
    }
   ],
   "source": [
    "def percentage():\n",
    "    total=(Subject1+Subject2+Subject3+Subject4+Subject5)\n",
    "    print(\"total=\",total)\n",
    "    percent=(total/500)*100\n",
    "    print(\"Percentage=\",percent)\n",
    "Subject1=int(input(\"Subject1:\"))\n",
    "Subject2=int(input(\"Subject2:\"))\n",
    "Subject3=int(input(\"Subject3:\"))\n",
    "Subject4=int(input(\"Subject4:\"))\n",
    "Subject5=int(input(\"Subject5:\"))\n",
    "percentage()"
   ]
  },
  {
   "cell_type": "code",
   "execution_count": 18,
   "id": "37813b2c-fa70-4d23-a45a-c799a83669de",
   "metadata": {},
   "outputs": [
    {
     "name": "stdin",
     "output_type": "stream",
     "text": [
      "Height: 32\n",
      "Breadth: 34\n"
     ]
    },
    {
     "name": "stdout",
     "output_type": "stream",
     "text": [
      "Area formula:(Height*Breadth)/2\n",
      "Area of triangle: 544.0\n"
     ]
    },
    {
     "name": "stdin",
     "output_type": "stream",
     "text": [
      "Height1: 2\n",
      "Height2: 4\n",
      "Breadth: 4\n"
     ]
    },
    {
     "name": "stdout",
     "output_type": "stream",
     "text": [
      "Perimeter formula:Height1+Height2+Breadth\n",
      "Perimeter of triangle: 10\n"
     ]
    }
   ],
   "source": [
    "def triangle():\n",
    "    h=int(input(\"Height:\"))\n",
    "    b=int(input(\"Breadth:\"))\n",
    "    area=(h*b)/2\n",
    "    print(\"Area formula:(Height*Breadth)/2\")\n",
    "    print(\"Area of triangle:\",area)\n",
    "    h1=int(input(\"Height1:\"))\n",
    "    h2=int(input(\"Height2:\"))\n",
    "    b1=int(input(\"Breadth:\"))\n",
    "    print(\"Perimeter formula:Height1+Height2+Breadth\")\n",
    "    peri=h1+h2+b1\n",
    "    print(\"Perimeter of triangle:\",peri)\n",
    "triangle()"
   ]
  },
  {
   "cell_type": "code",
   "execution_count": null,
   "id": "98d686d7-0975-4c5b-aac5-398fe138df31",
   "metadata": {},
   "outputs": [],
   "source": []
  }
 ],
 "metadata": {
  "kernelspec": {
   "display_name": "Python 3 (ipykernel)",
   "language": "python",
   "name": "python3"
  },
  "language_info": {
   "codemirror_mode": {
    "name": "ipython",
    "version": 3
   },
   "file_extension": ".py",
   "mimetype": "text/x-python",
   "name": "python",
   "nbconvert_exporter": "python",
   "pygments_lexer": "ipython3",
   "version": "3.12.7"
  }
 },
 "nbformat": 4,
 "nbformat_minor": 5
}
