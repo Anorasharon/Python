{
 "cells": [
  {
   "cell_type": "code",
   "execution_count": 2,
   "id": "eb42787a-9412-4c6e-86dc-9966584dbc0d",
   "metadata": {},
   "outputs": [
    {
     "name": "stdout",
     "output_type": "stream",
     "text": [
      "Subfields in AI are\n",
      "Machine Learning\n",
      "Neural Networks\n",
      "Vision\n",
      "Robotics\n",
      "Speech Processing\n",
      "Natural Language Processing\n"
     ]
    }
   ],
   "source": [
    "from multiple import multiplefunctions\n",
    "multiplefunctions.Subfields()"
   ]
  },
  {
   "cell_type": "code",
   "execution_count": 3,
   "id": "26ecaeb8-f50d-4389-9ef4-296e5ba352f2",
   "metadata": {},
   "outputs": [
    {
     "name": "stdin",
     "output_type": "stream",
     "text": [
      "Enter the number: 52452\n"
     ]
    },
    {
     "name": "stdout",
     "output_type": "stream",
     "text": [
      "52452  is even number\n"
     ]
    }
   ],
   "source": [
    "num=int(input(\"Enter the number:\"))\n",
    "multiplefunctions.OddEven(num)"
   ]
  },
  {
   "cell_type": "code",
   "execution_count": 4,
   "id": "f722abc8-39ad-472f-8aa1-38b11ccb68c1",
   "metadata": {},
   "outputs": [
    {
     "name": "stdin",
     "output_type": "stream",
     "text": [
      "Your gender: Male\n",
      "Enter age: 20\n"
     ]
    },
    {
     "data": {
      "text/plain": [
       "'NOT ELIGIBLE'"
      ]
     },
     "execution_count": 4,
     "metadata": {},
     "output_type": "execute_result"
    }
   ],
   "source": [
    "gender=input(\"Your gender:\")\n",
    "age=int(input(\"Enter age:\"))\n",
    "multiplefunctions.Eligible(gender,age)"
   ]
  },
  {
   "cell_type": "code",
   "execution_count": 5,
   "id": "88f64536-b367-4edb-90a4-f1fd3abfbadb",
   "metadata": {},
   "outputs": [
    {
     "name": "stdin",
     "output_type": "stream",
     "text": [
      "Subject1: 98\n",
      "Subject2: 87\n",
      "Subject3: 95\n",
      "Subject4: 95\n",
      "Subject5: 93\n"
     ]
    },
    {
     "name": "stdout",
     "output_type": "stream",
     "text": [
      "total= 468\n",
      "Percentage= 93.60000000000001\n"
     ]
    }
   ],
   "source": [
    "Subject1=int(input(\"Subject1:\"))\n",
    "Subject2=int(input(\"Subject2:\"))    \n",
    "Subject3=int(input(\"Subject3:\"))\n",
    "Subject4=int(input(\"Subject4:\"))\n",
    "Subject5=int(input(\"Subject5:\"))\n",
    "multiplefunctions.percentage(Subject1,Subject2,Subject3,Subject4,Subject5)"
   ]
  },
  {
   "cell_type": "code",
   "execution_count": 6,
   "id": "7e17a1f2-f5d4-4f4a-bca5-82ac701bbb40",
   "metadata": {},
   "outputs": [
    {
     "name": "stdin",
     "output_type": "stream",
     "text": [
      "Height: 32\n",
      "Breadth: 34\n",
      "Height1: 2\n",
      "Height2: 4\n",
      "Breadth: 4\n"
     ]
    },
    {
     "name": "stdout",
     "output_type": "stream",
     "text": [
      "Area formula:(Height*Breadth)/2\n",
      "Area of triangle: 544.0\n",
      "Perimeter formula:Height1+Height2+Breadth\n",
      "Perimeter of triangle: 10\n"
     ]
    }
   ],
   "source": [
    "h=int(input(\"Height:\"))\n",
    "b=int(input(\"Breadth:\"))\n",
    "h1=int(input(\"Height1:\"))\n",
    "h2=int(input(\"Height2:\"))\n",
    "b1=int(input(\"Breadth:\"))\n",
    "multiplefunctions.triangle(h,b,h1,h2,b1)"
   ]
  }
 ],
 "metadata": {
  "kernelspec": {
   "display_name": "Python 3 (ipykernel)",
   "language": "python",
   "name": "python3"
  },
  "language_info": {
   "codemirror_mode": {
    "name": "ipython",
    "version": 3
   },
   "file_extension": ".py",
   "mimetype": "text/x-python",
   "name": "python",
   "nbconvert_exporter": "python",
   "pygments_lexer": "ipython3",
   "version": "3.12.7"
  }
 },
 "nbformat": 4,
 "nbformat_minor": 5
}
